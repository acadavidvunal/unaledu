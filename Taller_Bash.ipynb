{
  "nbformat": 4,
  "nbformat_minor": 0,
  "metadata": {
    "colab": {
      "name": "Taller_Bash.ipynb",
      "provenance": [],
      "include_colab_link": true
    },
    "kernelspec": {
      "name": "python3",
      "display_name": "Python 3"
    }
  },
  "cells": [
    {
      "cell_type": "markdown",
      "metadata": {
        "id": "view-in-github",
        "colab_type": "text"
      },
      "source": [
        "<a href=\"https://colab.research.google.com/github/acadavidvunal/unaledu/blob/master/Taller_Bash.ipynb\" target=\"_parent\"><img src=\"https://colab.research.google.com/assets/colab-badge.svg\" alt=\"Open In Colab\"/></a>"
      ]
    },
    {
      "cell_type": "code",
      "metadata": {
        "id": "kIh7vBKZEZrh",
        "colab_type": "code",
        "colab": {}
      },
      "source": [
        "mkdir practica-bash-1"
      ],
      "execution_count": 0,
      "outputs": []
    },
    {
      "cell_type": "code",
      "metadata": {
        "id": "HQAnT7icElWf",
        "colab_type": "code",
        "colab": {}
      },
      "source": [
        "mkdir /content/practica-bash-1/1 && mkdir /content/practica-bash-1/2  && mkdir /content/practica-bash-1/3"
      ],
      "execution_count": 0,
      "outputs": []
    },
    {
      "cell_type": "code",
      "metadata": {
        "id": "fnkcZ_fXE91_",
        "colab_type": "code",
        "colab": {}
      },
      "source": [
        "mkdir /content/practica-bash-1/1/1-1 && mkdir /content/practica-bash-1/1/1-2 && mkdir /content/practica-bash-1/1/1-3\n"
      ],
      "execution_count": 0,
      "outputs": []
    },
    {
      "cell_type": "code",
      "metadata": {
        "id": "eOVegJtFGbVr",
        "colab_type": "code",
        "colab": {}
      },
      "source": [
        "mkdir /content/practica-bash-1/2/2-1 && mkdir /content/practica-bash-1/2/2-2 && mkdir /content/practica-bash-1/2/2-3\n"
      ],
      "execution_count": 0,
      "outputs": []
    },
    {
      "cell_type": "code",
      "metadata": {
        "id": "wyrhKbWWGVo4",
        "colab_type": "code",
        "colab": {}
      },
      "source": [
        "mkdir /content/practica-bash-1/3/3-1 && mkdir /content/practica-bash-1/3/3-2 && mkdir /content/practica-bash-1/3/3-3"
      ],
      "execution_count": 0,
      "outputs": []
    },
    {
      "cell_type": "code",
      "metadata": {
        "id": "DChyzQFDG1zG",
        "colab_type": "code",
        "colab": {
          "base_uri": "https://localhost:8080/",
          "height": 34
        },
        "outputId": "270c3850-a99a-4201-a460-14d65f29c2df"
      },
      "source": [
        "cd /content/practica-bash-1/"
      ],
      "execution_count": 19,
      "outputs": [
        {
          "output_type": "stream",
          "text": [
            "/content/practica-bash-1\n"
          ],
          "name": "stdout"
        }
      ]
    },
    {
      "cell_type": "code",
      "metadata": {
        "id": "NOKVGQcFHEpA",
        "colab_type": "code",
        "colab": {
          "base_uri": "https://localhost:8080/",
          "height": 309
        },
        "outputId": "53e305e9-52ad-4bd8-caed-64e843516add"
      },
      "source": [
        "!apt-get install tree #Install tree"
      ],
      "execution_count": 28,
      "outputs": [
        {
          "output_type": "stream",
          "text": [
            "Reading package lists... Done\n",
            "Building dependency tree       \n",
            "Reading state information... Done\n",
            "The following NEW packages will be installed:\n",
            "  tree\n",
            "0 upgraded, 1 newly installed, 0 to remove and 8 not upgraded.\n",
            "Need to get 40.7 kB of archives.\n",
            "After this operation, 105 kB of additional disk space will be used.\n",
            "Get:1 http://archive.ubuntu.com/ubuntu bionic/universe amd64 tree amd64 1.7.0-5 [40.7 kB]\n",
            "Fetched 40.7 kB in 0s (97.6 kB/s)\n",
            "Selecting previously unselected package tree.\n",
            "(Reading database ... 131183 files and directories currently installed.)\n",
            "Preparing to unpack .../tree_1.7.0-5_amd64.deb ...\n",
            "Unpacking tree (1.7.0-5) ...\n",
            "Setting up tree (1.7.0-5) ...\n",
            "Processing triggers for man-db (2.8.3-2ubuntu0.1) ...\n"
          ],
          "name": "stdout"
        }
      ]
    },
    {
      "cell_type": "code",
      "metadata": {
        "id": "C2cBp4wZIfvc",
        "colab_type": "code",
        "colab": {
          "base_uri": "https://localhost:8080/",
          "height": 272
        },
        "outputId": "b8880b34-1973-4688-9e77-43eca90a6315"
      },
      "source": [
        "!tree"
      ],
      "execution_count": 30,
      "outputs": [
        {
          "output_type": "stream",
          "text": [
            ".\n",
            "├── 1\n",
            "│   ├── 1-1\n",
            "│   ├── 1-2\n",
            "│   └── 1-3\n",
            "├── 2\n",
            "│   ├── 2-1\n",
            "│   ├── 2-2\n",
            "│   └── 2-3\n",
            "└── 3\n",
            "    ├── 3-1\n",
            "    ├── 3-2\n",
            "    └── 3-3\n",
            "\n",
            "12 directories, 0 files\n"
          ],
          "name": "stdout"
        }
      ]
    },
    {
      "cell_type": "code",
      "metadata": {
        "id": "t1uc32zDI18J",
        "colab_type": "code",
        "colab": {}
      },
      "source": [
        "!touch 1/1-1/_SUCCESS.txt && touch 1/1-1/part-0.txt"
      ],
      "execution_count": 0,
      "outputs": []
    },
    {
      "cell_type": "code",
      "metadata": {
        "id": "qblQf6nLJ3Fx",
        "colab_type": "code",
        "colab": {
          "base_uri": "https://localhost:8080/",
          "height": 34
        },
        "outputId": "cf6e4cdb-8eba-4beb-d0ee-2ca2bd023de4"
      },
      "source": [
        "cd 1/1-1/"
      ],
      "execution_count": 34,
      "outputs": [
        {
          "output_type": "stream",
          "text": [
            "/content/practica-bash-1/1/1-1\n"
          ],
          "name": "stdout"
        }
      ]
    },
    {
      "cell_type": "code",
      "metadata": {
        "id": "82noi-5eKI3s",
        "colab_type": "code",
        "colab": {}
      },
      "source": [
        "cp part-0.txt part-1.txt && cp part-0.txt part-2.txt"
      ],
      "execution_count": 0,
      "outputs": []
    },
    {
      "cell_type": "code",
      "metadata": {
        "id": "mpjxa7WXKVEK",
        "colab_type": "code",
        "colab": {}
      },
      "source": [
        "!mv part-0.txt part-00000.txt && mv part-1.txt part-00001.txt && mv part-2.txt part-00002.txt"
      ],
      "execution_count": 0,
      "outputs": []
    },
    {
      "cell_type": "code",
      "metadata": {
        "id": "dWVZYEIXLbQ1",
        "colab_type": "code",
        "colab": {
          "base_uri": "https://localhost:8080/",
          "height": 34
        },
        "outputId": "98237042-55f1-448a-a849-0c346b4c0ea8"
      },
      "source": [
        "cd practica-bash-1/"
      ],
      "execution_count": 47,
      "outputs": [
        {
          "output_type": "stream",
          "text": [
            "/content/practica-bash-1\n"
          ],
          "name": "stdout"
        }
      ]
    },
    {
      "cell_type": "code",
      "metadata": {
        "id": "7xVupdLdLeu_",
        "colab_type": "code",
        "colab": {
          "base_uri": "https://localhost:8080/",
          "height": 340
        },
        "outputId": "2bd6fa7e-e642-4229-d0b4-f0b0cd64291e"
      },
      "source": [
        "!tree"
      ],
      "execution_count": 49,
      "outputs": [
        {
          "output_type": "stream",
          "text": [
            ".\n",
            "├── 1\n",
            "│   ├── 1-1\n",
            "│   │   ├── part-00000.txt\n",
            "│   │   ├── part-00001.txt\n",
            "│   │   ├── part-00002.txt\n",
            "│   │   └── _SUCCESS.txt\n",
            "│   ├── 1-2\n",
            "│   └── 1-3\n",
            "├── 2\n",
            "│   ├── 2-1\n",
            "│   ├── 2-2\n",
            "│   └── 2-3\n",
            "└── 3\n",
            "    ├── 3-1\n",
            "    ├── 3-2\n",
            "    └── 3-3\n",
            "\n",
            "12 directories, 4 files\n"
          ],
          "name": "stdout"
        }
      ]
    },
    {
      "cell_type": "code",
      "metadata": {
        "id": "67RZmgsxLt5S",
        "colab_type": "code",
        "colab": {}
      },
      "source": [
        "cp 1/1-1/*.txt 3/3-3/"
      ],
      "execution_count": 0,
      "outputs": []
    },
    {
      "cell_type": "code",
      "metadata": {
        "id": "0wph7R1NMzU3",
        "colab_type": "code",
        "colab": {}
      },
      "source": [
        "rm -r /content/practica-bash-1/"
      ],
      "execution_count": 0,
      "outputs": []
    },
    {
      "cell_type": "markdown",
      "metadata": {
        "id": "qEwBKiISKsu_",
        "colab_type": "text"
      },
      "source": [
        ""
      ]
    }
  ]
}